{
  "nbformat": 4,
  "nbformat_minor": 0,
  "metadata": {
    "colab": {
      "provenance": [],
      "authorship_tag": "ABX9TyO1G1RqUnPUtLUohh0XokAu",
      "include_colab_link": true
    },
    "kernelspec": {
      "name": "python3",
      "display_name": "Python 3"
    },
    "language_info": {
      "name": "python"
    }
  },
  "cells": [
    {
      "cell_type": "markdown",
      "metadata": {
        "id": "view-in-github",
        "colab_type": "text"
      },
      "source": [
        "<a href=\"https://colab.research.google.com/github/Deepak8260/Durgasoft-Python-Practice-Programs--KD/blob/main/Durga_Inner_Classes_Practice.ipynb\" target=\"_parent\"><img src=\"https://colab.research.google.com/assets/colab-badge.svg\" alt=\"Open In Colab\"/></a>"
      ]
    },
    {
      "cell_type": "code",
      "execution_count": 1,
      "metadata": {
        "colab": {
          "base_uri": "https://localhost:8080/"
        },
        "id": "fNBSu7J2xpH-",
        "outputId": "1e668bf1-eb48-4983-f66e-1ac9ca7c2458"
      },
      "outputs": [
        {
          "output_type": "stream",
          "name": "stdout",
          "text": [
            "outer class constructor\n",
            "Inner Class Constructor\n",
            "Inner class method\n"
          ]
        }
      ],
      "source": [
        "class Outer:\n",
        "  def __init__(self):\n",
        "    print('outer class constructor')\n",
        "\n",
        "  class Inner:\n",
        "    def __init__(self):\n",
        "      print('Inner Class Constructor')\n",
        "    def m1(self):\n",
        "      print('Inner class method')\n",
        "\n",
        "x=Outer()\n",
        "y=x.Inner()\n",
        "y.m1()"
      ]
    },
    {
      "cell_type": "code",
      "source": [
        "class Outer:\n",
        "  def __init__(self):\n",
        "    print('Outer class constructor')\n",
        "  class Inner1:\n",
        "    def __init__(self):\n",
        "      print('1st Inner class Constructor')\n",
        "    def m1(self):\n",
        "      print('M1 Method')\n",
        "  class Inner2:\n",
        "    def __init__(self):\n",
        "      print('2nd Inner class constuctor')\n",
        "    def m2(self):\n",
        "      print('M2 Method')\n",
        "\n",
        "obj=Outer()#Outer class object creation\n",
        "\n",
        "obj1=obj.Inner1()#Inner1 class object creation\n",
        "obj1.m1()#Inner1 class Method calling\n",
        "\n",
        "obj2=obj.Inner2()#Inner2 class object creation\n",
        "obj2.m2()#Inner2 class Method calling\n",
        "\n"
      ],
      "metadata": {
        "colab": {
          "base_uri": "https://localhost:8080/"
        },
        "id": "phTcCdnIzRKa",
        "outputId": "d4dce6af-e62f-47e3-f572-625d6ff95ebe"
      },
      "execution_count": 4,
      "outputs": [
        {
          "output_type": "stream",
          "name": "stdout",
          "text": [
            "Outer class constructor\n",
            "1st Inner class Constructor\n",
            "M1 Method\n",
            "2nd Inner class constuctor\n",
            "M2 Method\n"
          ]
        }
      ]
    },
    {
      "cell_type": "markdown",
      "source": [
        "# Nesting Of Inner Class"
      ],
      "metadata": {
        "id": "1mO8_dC71Zac"
      }
    },
    {
      "cell_type": "code",
      "source": [
        "class Outer:\n",
        "  def __init__(self):\n",
        "    print('Outer class Constructor')\n",
        "\n",
        "  class Inner:\n",
        "    def __init__(self):\n",
        "      print('Inner Class Constructor')\n",
        "    class Inner1:\n",
        "      def __init__(self):\n",
        "          print('Inner1 Class Constructor')\n",
        "      def m1(self):\n",
        "          print('M1 Method')\n",
        "\n",
        "out = Outer()\n",
        "out1=out.Inner()\n",
        "out2=out1.Inner1()\n",
        "out2.m1()"
      ],
      "metadata": {
        "colab": {
          "base_uri": "https://localhost:8080/"
        },
        "id": "9yuz7W4t1M3p",
        "outputId": "cc648212-ff27-4b01-92a1-3f8d7678f2e1"
      },
      "execution_count": 16,
      "outputs": [
        {
          "output_type": "stream",
          "name": "stdout",
          "text": [
            "Outer class Constructor\n",
            "Inner Class Constructor\n",
            "Inner1 Class Constructor\n",
            "M1 Method\n"
          ]
        }
      ]
    },
    {
      "cell_type": "code",
      "source": [],
      "metadata": {
        "id": "1fB4Jd_O4yXu"
      },
      "execution_count": null,
      "outputs": []
    }
  ]
}