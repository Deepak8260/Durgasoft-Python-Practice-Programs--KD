{
  "nbformat": 4,
  "nbformat_minor": 0,
  "metadata": {
    "colab": {
      "provenance": [],
      "authorship_tag": "ABX9TyMJZYuQcmo1y5bYUSz5O+xH",
      "include_colab_link": true
    },
    "kernelspec": {
      "name": "python3",
      "display_name": "Python 3"
    },
    "language_info": {
      "name": "python"
    }
  },
  "cells": [
    {
      "cell_type": "markdown",
      "metadata": {
        "id": "view-in-github",
        "colab_type": "text"
      },
      "source": [
        "<a href=\"https://colab.research.google.com/github/Deepak8260/Durgasoft-Python-Practice-Programs--KD/blob/main/Durga_Inner_Classes_Practice.ipynb\" target=\"_parent\"><img src=\"https://colab.research.google.com/assets/colab-badge.svg\" alt=\"Open In Colab\"/></a>"
      ]
    },
    {
      "cell_type": "code",
      "execution_count": 1,
      "metadata": {
        "colab": {
          "base_uri": "https://localhost:8080/"
        },
        "id": "fNBSu7J2xpH-",
        "outputId": "1e668bf1-eb48-4983-f66e-1ac9ca7c2458"
      },
      "outputs": [
        {
          "output_type": "stream",
          "name": "stdout",
          "text": [
            "outer class constructor\n",
            "Inner Class Constructor\n",
            "Inner class method\n"
          ]
        }
      ],
      "source": [
        "class Outer:\n",
        "  def __init__(self):\n",
        "    print('outer class constructor')\n",
        "\n",
        "  class Inner:\n",
        "    def __init__(self):\n",
        "      print('Inner Class Constructor')\n",
        "    def m1(self):\n",
        "      print('Inner class method')\n",
        "\n",
        "x=Outer()\n",
        "y=x.Inner()\n",
        "y.m1()"
      ]
    },
    {
      "cell_type": "code",
      "source": [
        "class Outer:\n",
        "  def __init__(self):\n",
        "    print('Outer class constructor')\n",
        "  class Inner1:\n",
        "    def __init__(self):\n",
        "      print('1st Inner class Constructor')\n",
        "    def m1(self):\n",
        "      print('M1 Method')\n",
        "  class Inner2:\n",
        "    def __init__(self):\n",
        "      print('2nd Inner class constuctor')\n",
        "    def m2(self):\n",
        "      print('M2 Method')\n",
        "\n",
        "obj=Outer()#Outer class object creation\n",
        "\n",
        "obj1=obj.Inner1()#Inner1 class object creation\n",
        "obj1.m1()#Inner1 class Method calling\n",
        "\n",
        "obj2=obj.Inner2()#Inner2 class object creation\n",
        "obj2.m2()#Inner2 class Method calling\n",
        "\n"
      ],
      "metadata": {
        "colab": {
          "base_uri": "https://localhost:8080/"
        },
        "id": "phTcCdnIzRKa",
        "outputId": "d4dce6af-e62f-47e3-f572-625d6ff95ebe"
      },
      "execution_count": 4,
      "outputs": [
        {
          "output_type": "stream",
          "name": "stdout",
          "text": [
            "Outer class constructor\n",
            "1st Inner class Constructor\n",
            "M1 Method\n",
            "2nd Inner class constuctor\n",
            "M2 Method\n"
          ]
        }
      ]
    },
    {
      "cell_type": "markdown",
      "source": [
        "# Nesting Of Inner Class"
      ],
      "metadata": {
        "id": "1mO8_dC71Zac"
      }
    },
    {
      "cell_type": "code",
      "source": [
        "class Outer:\n",
        "  def __init__(self):\n",
        "    print('Outer class Constructor')\n",
        "\n",
        "  class Inner:\n",
        "    def __init__(self):\n",
        "      print('Inner Class Constructor')\n",
        "    class Inner1:\n",
        "      def __init__(self):\n",
        "          print('Inner1 Class Constructor')\n",
        "      def m1(self):\n",
        "          print('M1 Method')\n",
        "\n",
        "out = Outer()\n",
        "out1=out.Inner()\n",
        "out2=out1.Inner1()\n",
        "out2.m1()"
      ],
      "metadata": {
        "colab": {
          "base_uri": "https://localhost:8080/"
        },
        "id": "9yuz7W4t1M3p",
        "outputId": "cc648212-ff27-4b01-92a1-3f8d7678f2e1"
      },
      "execution_count": 16,
      "outputs": [
        {
          "output_type": "stream",
          "name": "stdout",
          "text": [
            "Outer class Constructor\n",
            "Inner Class Constructor\n",
            "Inner1 Class Constructor\n",
            "M1 Method\n"
          ]
        }
      ]
    },
    {
      "cell_type": "code",
      "source": [
        "class Human:\n",
        "  class Head:\n",
        "    def talk(self):\n",
        "      print('Talking')\n",
        "    class Brain:\n",
        "      def think(self):\n",
        "        print('Thinking')\n",
        "\n",
        "h=Human()\n",
        "h1=h.Head()\n",
        "h1.talk()\n",
        "h2=h1.Brain()\n",
        "h2.think()"
      ],
      "metadata": {
        "colab": {
          "base_uri": "https://localhost:8080/"
        },
        "id": "1fB4Jd_O4yXu",
        "outputId": "811005d4-119c-4dd0-f50e-1043702c437d"
      },
      "execution_count": 19,
      "outputs": [
        {
          "output_type": "stream",
          "name": "stdout",
          "text": [
            "Talking\n",
            "Thinking\n"
          ]
        }
      ]
    },
    {
      "cell_type": "code",
      "source": [
        "class Human:\n",
        "  def __init__(self,name):\n",
        "    print('Human Class Constructor')\n",
        "    self.name=name\n",
        "    print(f'My name is {self.name}')\n",
        "    self.head=self.Head()\n",
        "\n",
        "  class Head:\n",
        "    def __init__(self):\n",
        "      print('Head Class Constructor')\n",
        "      self.brain=self.Brain()\n",
        "\n",
        "    class Brain:\n",
        "      def __init__(self):\n",
        "        print('Brain Class Constructor')\n",
        "\n",
        "obj=Human('Kumar')"
      ],
      "metadata": {
        "colab": {
          "base_uri": "https://localhost:8080/"
        },
        "id": "7rCEUDpq6aG5",
        "outputId": "12bc5ed0-2c1d-4d8d-a04a-db62d00c3d94"
      },
      "execution_count": 21,
      "outputs": [
        {
          "output_type": "stream",
          "name": "stdout",
          "text": [
            "Human Class Constructor\n",
            "My name is Kumar\n",
            "Head Class Constructor\n",
            "Brain Class Constructor\n"
          ]
        }
      ]
    },
    {
      "cell_type": "code",
      "source": [
        "class Human:\n",
        "  def __init__(self,name):\n",
        "    self.name=name\n",
        "    print('Human class Constructor')\n",
        "    self.head=self.Head()\n",
        "\n",
        "  def info(self):\n",
        "    print(f'My name is {self.name}')\n",
        "    print('I am full busy with ')\n",
        "    self.head.talk()\n",
        "    self.head.brain.think()\n",
        "\n",
        "  class Head:\n",
        "    def __init__(self):\n",
        "      print('Head class conmstructor')\n",
        "      self.brain=self.Brain()\n",
        "\n",
        "    def talk(self):\n",
        "      print('Talking')\n",
        "\n",
        "    class Brain:\n",
        "      def __init__(self):\n",
        "        print('Brain class Constructor')\n",
        "\n",
        "      def think(self):\n",
        "        print('as well as Thinking')\n",
        "\n",
        "h=Human('deepak')\n",
        "h.info()\n",
        "\n",
        "\n",
        "\n"
      ],
      "metadata": {
        "colab": {
          "base_uri": "https://localhost:8080/"
        },
        "id": "GQzuaJssOoTG",
        "outputId": "6813e457-8b07-43f4-f598-219d5c03be56"
      },
      "execution_count": 24,
      "outputs": [
        {
          "output_type": "stream",
          "name": "stdout",
          "text": [
            "Human class Constructor\n",
            "Head class conmstructor\n",
            "Brain class Constructor\n",
            "My name is deepak\n",
            "I am full busy with \n",
            "Talking\n",
            "as well as Thinking\n"
          ]
        }
      ]
    },
    {
      "cell_type": "code",
      "source": [
        "class Person:\n",
        "  def __init__(self,name,dd,mm,yyyy):\n",
        "    self.name=name\n",
        "    print('Person class object Creation')\n",
        "    self.dob=self.Dob(dd,mm,yyyy)\n",
        "\n",
        "  def info(self):\n",
        "    print(f'My name is {self.name}')\n",
        "    self.dob.display()\n",
        "\n",
        "  class Dob:\n",
        "    def __init__(self,dd,mm,yyyy):\n",
        "      print('Dob class Constructor')\n",
        "      self.date=dd\n",
        "      self.month=mm\n",
        "      self.year=yyyy\n",
        "\n",
        "    def display(self):\n",
        "      print(f'Dob = {self.date:02}/{self.month:02}/{self.year:02}')\n",
        "\n",
        "p=Person('Kumar Deepak',3,8,2004)\n",
        "p.info()"
      ],
      "metadata": {
        "colab": {
          "base_uri": "https://localhost:8080/"
        },
        "id": "IHA1xbeqRCWP",
        "outputId": "0cd29611-a603-4808-8e0a-9b8c6f78bf6a"
      },
      "execution_count": 28,
      "outputs": [
        {
          "output_type": "stream",
          "name": "stdout",
          "text": [
            "Person class object Creation\n",
            "Dob class Constructor\n",
            "My name is Kumar Deepak\n",
            "Dob = 03/08/2004\n"
          ]
        }
      ]
    }
  ]
}