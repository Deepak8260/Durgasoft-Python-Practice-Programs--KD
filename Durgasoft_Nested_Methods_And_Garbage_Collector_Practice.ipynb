{
  "nbformat": 4,
  "nbformat_minor": 0,
  "metadata": {
    "colab": {
      "provenance": [],
      "authorship_tag": "ABX9TyMIOUysWcWSRBPFYK2F/QBW",
      "include_colab_link": true
    },
    "kernelspec": {
      "name": "python3",
      "display_name": "Python 3"
    },
    "language_info": {
      "name": "python"
    }
  },
  "cells": [
    {
      "cell_type": "markdown",
      "metadata": {
        "id": "view-in-github",
        "colab_type": "text"
      },
      "source": [
        "<a href=\"https://colab.research.google.com/github/Deepak8260/Durgasoft-Python-Practice-Programs--KD/blob/main/Durgasoft_Nested_Methods_And_Garbage_Collector_Practice.ipynb\" target=\"_parent\"><img src=\"https://colab.research.google.com/assets/colab-badge.svg\" alt=\"Open In Colab\"/></a>"
      ]
    },
    {
      "cell_type": "code",
      "execution_count": null,
      "metadata": {
        "id": "tvYn8UQvoeve"
      },
      "outputs": [],
      "source": [
        "#Nested methods\n",
        "class Test:\n",
        "  def m1(self):\n",
        "    def calc(a,b):\n",
        "      print(f'Sum of {a} and {b} is {a+b}')\n",
        "      print(f'Difference of {a} and {b} is {a-b}')\n",
        "      print(f'Product of {a} and {b} is {a*b}')\n",
        "      print(f'Division of {a} and {b} is {a/b}')\n",
        "      print()\n",
        "\n",
        "    calc(10,20)\n",
        "    calc(40,50)\n",
        "    calc(100,200)\n",
        "\n",
        "t=Test()\n",
        "t.m1()"
      ]
    },
    {
      "cell_type": "code",
      "source": [
        "import gc\n",
        "print(gc.isenabled())"
      ],
      "metadata": {
        "id": "PeJQqNRComoF"
      },
      "execution_count": null,
      "outputs": []
    },
    {
      "cell_type": "code",
      "source": [
        "gc.disable()\n",
        "print(gc.isenabled())"
      ],
      "metadata": {
        "id": "NLaNXCJdorAm"
      },
      "execution_count": null,
      "outputs": []
    },
    {
      "cell_type": "code",
      "source": [
        "gc.enable()\n",
        "print(gc.isenabled())"
      ],
      "metadata": {
        "id": "kzlI-eOhotL8"
      },
      "execution_count": null,
      "outputs": []
    },
    {
      "cell_type": "code",
      "source": [
        "#case 1\n",
        "class Parent:\n",
        "  def __init__(self):\n",
        "    print('Hi! I am Constructor of Parent class')\n",
        "\n",
        "  def __del__(self):\n",
        "    print('Hi! I am Destructor of Parent Class')\n",
        "\n",
        "p=Parent()"
      ],
      "metadata": {
        "colab": {
          "base_uri": "https://localhost:8080/"
        },
        "id": "xaikLB7touyN",
        "outputId": "c454d67b-ae11-4eb7-8b6d-c028db1d9b32"
      },
      "execution_count": 1,
      "outputs": [
        {
          "output_type": "stream",
          "name": "stdout",
          "text": [
            "Hi! I am Constructor of Parent class\n"
          ]
        }
      ]
    },
    {
      "cell_type": "code",
      "source": [
        "#case 1\n",
        "class Parent:\n",
        "  def __init__(self):\n",
        "    print('Hi! I am Constructor of Parent class')\n",
        "\n",
        "  def __del__(self):\n",
        "    print('Hi! I am Destructor of Parent Class')\n",
        "\n",
        "p=Parent()\n",
        "print('End of Program')"
      ],
      "metadata": {
        "colab": {
          "base_uri": "https://localhost:8080/"
        },
        "id": "68cz2UNSpNUk",
        "outputId": "0297d369-fc07-49c9-de35-2322ece4223b"
      },
      "execution_count": 2,
      "outputs": [
        {
          "output_type": "stream",
          "name": "stdout",
          "text": [
            "Hi! I am Constructor of Parent class\n",
            "End of Program\n",
            "Hi! I am Destructor of Parent Class\n"
          ]
        }
      ]
    },
    {
      "cell_type": "code",
      "source": [
        "#Case 2\n",
        "class Student:\n",
        "  def __init__(self):\n",
        "    print('Constructor')\n",
        "\n",
        "  def __del__(self):\n",
        "    print('Destructor')\n",
        "\n",
        "s=Student()\n",
        "del s"
      ],
      "metadata": {
        "colab": {
          "base_uri": "https://localhost:8080/"
        },
        "id": "59ZuY6YRqgFT",
        "outputId": "edcedca1-4ffa-4059-c90b-49f8414d13a9"
      },
      "execution_count": 7,
      "outputs": [
        {
          "output_type": "stream",
          "name": "stdout",
          "text": [
            "Constructor\n",
            "Destructor\n"
          ]
        }
      ]
    }
  ]
}