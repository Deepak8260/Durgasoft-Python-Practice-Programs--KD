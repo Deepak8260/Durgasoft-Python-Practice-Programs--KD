{
  "nbformat": 4,
  "nbformat_minor": 0,
  "metadata": {
    "colab": {
      "provenance": [],
      "authorship_tag": "ABX9TyOTPiHuptGsmIU0+zU9++ES",
      "include_colab_link": true
    },
    "kernelspec": {
      "name": "python3",
      "display_name": "Python 3"
    },
    "language_info": {
      "name": "python"
    }
  },
  "cells": [
    {
      "cell_type": "markdown",
      "metadata": {
        "id": "view-in-github",
        "colab_type": "text"
      },
      "source": [
        "<a href=\"https://colab.research.google.com/github/Deepak8260/Durgasoft-Python-Practice-Programs--KD/blob/main/Durga_Inheritance_Practice.ipynb\" target=\"_parent\"><img src=\"https://colab.research.google.com/assets/colab-badge.svg\" alt=\"Open In Colab\"/></a>"
      ]
    },
    {
      "cell_type": "code",
      "execution_count": 1,
      "metadata": {
        "colab": {
          "base_uri": "https://localhost:8080/"
        },
        "id": "IRtWF9MDFj-T",
        "outputId": "78684265-682a-4a72-eb03-747539c8407d"
      },
      "outputs": [
        {
          "output_type": "stream",
          "name": "stdout",
          "text": [
            "P Method\n",
            "C Mathod\n"
          ]
        }
      ],
      "source": [
        "#Single Inheritance\n",
        "class P:\n",
        "  def m1(self):\n",
        "    print('P Method')\n",
        "\n",
        "class C(P):\n",
        "  def m2(self):\n",
        "    print('C Mathod')\n",
        "\n",
        "c=C()\n",
        "c.m1()\n",
        "c.m2()"
      ]
    },
    {
      "cell_type": "code",
      "source": [
        "#Multi-Level Inheritance\n",
        "class P:\n",
        "  def m1(self):\n",
        "    print('P Method')\n",
        "\n",
        "class C(P):\n",
        "  def m2(self):\n",
        "    print('C Method')\n",
        "\n",
        "class CC(C):\n",
        "  def m3(self):\n",
        "    print('CC Method')\n",
        "\n",
        "c=CC()\n",
        "c.m1()\n",
        "c.m2()\n",
        "c.m3()"
      ],
      "metadata": {
        "colab": {
          "base_uri": "https://localhost:8080/"
        },
        "id": "9sF66AZKGjFF",
        "outputId": "69222613-143c-4b25-c0f2-fd810543daca"
      },
      "execution_count": 3,
      "outputs": [
        {
          "output_type": "stream",
          "name": "stdout",
          "text": [
            "P Method\n",
            "C Method\n",
            "CC Method\n"
          ]
        }
      ]
    },
    {
      "cell_type": "code",
      "source": [
        "#Hierarchical Inheritance\n",
        "class GrandParent:\n",
        "  def m(self):\n",
        "    print('Grand Parent')\n",
        "\n",
        "class P1(GrandParent):\n",
        "  def m1(self):\n",
        "    print('P1 Method')\n",
        "\n",
        "class P2(GrandParent):\n",
        "  def m2(self):\n",
        "    print('P2 Method')\n",
        "\n",
        "p1=P1()\n",
        "p1.m()\n",
        "p1.m1()\n",
        "\n",
        "p2=P2()\n",
        "p2.m()\n",
        "p2.m2()"
      ],
      "metadata": {
        "colab": {
          "base_uri": "https://localhost:8080/"
        },
        "id": "-xXmwgRrHISK",
        "outputId": "a3982598-d797-4d0e-ba9c-d5a3b047cf20"
      },
      "execution_count": 4,
      "outputs": [
        {
          "output_type": "stream",
          "name": "stdout",
          "text": [
            "Grand Parent\n",
            "P1 Method\n",
            "Grand Parent\n",
            "P2 Method\n"
          ]
        }
      ]
    },
    {
      "cell_type": "code",
      "source": [
        "#Multiple Inheritance\n",
        "class P1:\n",
        "  def m1(self):\n",
        "    print('P1 Method')\n",
        "\n",
        "class P2:\n",
        "  def m2(self):\n",
        "    print('P2 Method')\n",
        "\n",
        "class Child(P1,P2):\n",
        "  def m3(self):\n",
        "    print('Child Method')\n",
        "\n",
        "c=Child()\n",
        "c.m1()\n",
        "c.m2()\n",
        "c.m3()"
      ],
      "metadata": {
        "colab": {
          "base_uri": "https://localhost:8080/"
        },
        "id": "q0I1xVo9IDe-",
        "outputId": "e66fd673-2077-4248-806a-65dce50546c6"
      },
      "execution_count": 5,
      "outputs": [
        {
          "output_type": "stream",
          "name": "stdout",
          "text": [
            "P1 Method\n",
            "P2 Method\n",
            "Child Method\n"
          ]
        }
      ]
    },
    {
      "cell_type": "code",
      "source": [
        "#Multiple Inheritance\n",
        "class P1:\n",
        "  def m1(self):\n",
        "    print('P1 Method')\n",
        "\n",
        "class P2:\n",
        "  def m1(self):\n",
        "    print('P2 Method')\n",
        "\n",
        "class Child(P1,P2):\n",
        "  def m1(self):\n",
        "    print('Child Method')\n",
        "\n",
        "c=Child()\n",
        "c.m1()\n",
        "c.m1()\n",
        "c.m1()"
      ],
      "metadata": {
        "colab": {
          "base_uri": "https://localhost:8080/"
        },
        "id": "tkDRk160KKze",
        "outputId": "67e2ccc8-c7d7-481b-a942-4ef8d2f866f9"
      },
      "execution_count": 10,
      "outputs": [
        {
          "output_type": "stream",
          "name": "stdout",
          "text": [
            "Child Method\n",
            "Child Method\n",
            "Child Method\n"
          ]
        }
      ]
    },
    {
      "cell_type": "markdown",
      "source": [
        "# MRO(P)=P,X,A,Y,B,C,0\n"
      ],
      "metadata": {
        "id": "31RQVPaRWQSJ"
      }
    },
    {
      "cell_type": "code",
      "source": [
        "#hybrid Inheritance when method is present in P.\n",
        "class A:\n",
        "  def m1(self):\n",
        "    print('A Class')\n",
        "class B:\n",
        "  def m1(self):\n",
        "    print('B Class')\n",
        "class C:\n",
        "  def m1(self):\n",
        "    print('C Class')\n",
        "class X(A,B):\n",
        "  def m1(self):\n",
        "    print('X Class')\n",
        "class Y(B,C):\n",
        "  def m1(self):\n",
        "    print('Y Class')\n",
        "class P(X,Y,C):\n",
        "  def m1(self):\n",
        "    print('P Class')\n",
        "\n",
        "p=P()\n",
        "p.m1()\n"
      ],
      "metadata": {
        "colab": {
          "base_uri": "https://localhost:8080/"
        },
        "id": "pjQvuH95NS3Y",
        "outputId": "d506c3eb-2205-4912-c90d-31cf26b0284b"
      },
      "execution_count": 19,
      "outputs": [
        {
          "output_type": "stream",
          "name": "stdout",
          "text": [
            "P Class\n"
          ]
        }
      ]
    },
    {
      "cell_type": "code",
      "source": [
        "#hybrid Inheritance when method is not present in P.\n",
        "class A:\n",
        "  def m1(self):\n",
        "    print('A Class')\n",
        "class B:\n",
        "  def m1(self):\n",
        "    print('B Class')\n",
        "class C:\n",
        "  def m1(self):\n",
        "    print('C Class')\n",
        "class X(A,B):\n",
        "  def m1(self):\n",
        "    print('X Class')\n",
        "class Y(B,C):\n",
        "  def m1(self):\n",
        "    print('Y Class')\n",
        "class P(X,Y,C):\n",
        "  pass\n",
        "\n",
        "p=P()\n",
        "p.m1()\n"
      ],
      "metadata": {
        "colab": {
          "base_uri": "https://localhost:8080/"
        },
        "id": "-fK6D_ruUZcz",
        "outputId": "e004cee0-7005-4678-d094-7b4d2dcd5331"
      },
      "execution_count": 22,
      "outputs": [
        {
          "output_type": "stream",
          "name": "stdout",
          "text": [
            "X Class\n"
          ]
        }
      ]
    },
    {
      "cell_type": "code",
      "source": [
        "#hybrid Inheritance method is not present in P and X.\n",
        "class A:\n",
        "  def m1(self):\n",
        "    print('A Class')\n",
        "class B:\n",
        "  def m1(self):\n",
        "    print('B Class')\n",
        "class C:\n",
        "  def m1(self):\n",
        "    print('C Class')\n",
        "class X(A,B):\n",
        "  pass\n",
        "class Y(B,C):\n",
        "  def m1(self):\n",
        "    print('Y Class')\n",
        "class P(X,Y,C):\n",
        "  pass\n",
        "\n",
        "p=P()\n",
        "p.m1()\n"
      ],
      "metadata": {
        "colab": {
          "base_uri": "https://localhost:8080/"
        },
        "id": "S_akoMFYVwen",
        "outputId": "682b5b30-a4c0-425e-ef99-7b34f8ebff7e"
      },
      "execution_count": 23,
      "outputs": [
        {
          "output_type": "stream",
          "name": "stdout",
          "text": [
            "A Class\n"
          ]
        }
      ]
    },
    {
      "cell_type": "code",
      "source": [
        "#hybrid Inheritance method is not present in P , X and A.\n",
        "class A:\n",
        "  pass\n",
        "class B:\n",
        "  def m1(self):\n",
        "    print('B Class')\n",
        "class C:\n",
        "  def m1(self):\n",
        "    print('C Class')\n",
        "class X(A,B):\n",
        "  pass\n",
        "class Y(B,C):\n",
        "  def m1(self):\n",
        "    print('Y Class')\n",
        "class P(X,Y,C):\n",
        "  pass\n",
        "\n",
        "p=P()\n",
        "p.m1()"
      ],
      "metadata": {
        "colab": {
          "base_uri": "https://localhost:8080/"
        },
        "id": "jlC1anuOVzkd",
        "outputId": "c92992da-16c2-41ff-b225-3d358806da7b"
      },
      "execution_count": 26,
      "outputs": [
        {
          "output_type": "stream",
          "name": "stdout",
          "text": [
            "Y Class\n"
          ]
        }
      ]
    },
    {
      "cell_type": "code",
      "source": [
        "#hybrid Inheritance method is not present in P , X ,A and Y.\n",
        "class A:\n",
        "  pass\n",
        "class B:\n",
        "  def m1(self):\n",
        "    print('B Class')\n",
        "class C:\n",
        "  def m1(self):\n",
        "    print('C Class')\n",
        "class X(A,B):\n",
        "  pass\n",
        "class Y(B,C):\n",
        "  pass\n",
        "class P(X,Y,C):\n",
        "  pass\n",
        "\n",
        "p=P()\n",
        "p.m1()"
      ],
      "metadata": {
        "colab": {
          "base_uri": "https://localhost:8080/"
        },
        "id": "hHOPFtPIV9D7",
        "outputId": "d8a83d0b-4c60-4ca3-d4a4-45d51792ce02"
      },
      "execution_count": 27,
      "outputs": [
        {
          "output_type": "stream",
          "name": "stdout",
          "text": [
            "B Class\n"
          ]
        }
      ]
    },
    {
      "cell_type": "code",
      "source": [
        "#hybrid Inheritance method is not present in P , X ,A, Y and B.\n",
        "class A:\n",
        "  pass\n",
        "class B:\n",
        "  pass\n",
        "class C:\n",
        "  def m1(self):\n",
        "    print('C Class')\n",
        "class X(A,B):\n",
        "  pass\n",
        "class Y(B,C):\n",
        "  pass\n",
        "class P(X,Y,C):\n",
        "  pass\n",
        "\n",
        "p=P()\n",
        "p.m1()"
      ],
      "metadata": {
        "colab": {
          "base_uri": "https://localhost:8080/"
        },
        "id": "gU-r5QvHV_2L",
        "outputId": "0807af4c-93bb-4df5-9587-744c47280682"
      },
      "execution_count": 29,
      "outputs": [
        {
          "output_type": "stream",
          "name": "stdout",
          "text": [
            "C Class\n"
          ]
        }
      ]
    },
    {
      "cell_type": "code",
      "source": [
        "#hybrid Inheritance  method is not present in P , X ,A, Y, B and C.\n",
        "class A:\n",
        "  pass\n",
        "class B:\n",
        "  pass\n",
        "class C:\n",
        "  pass\n",
        "class X(A,B):\n",
        "  pass\n",
        "class Y(B,C):\n",
        "  pass\n",
        "class P(X,Y,C):\n",
        "  pass\n",
        "\n",
        "p=P()\n",
        "p.m1()"
      ],
      "metadata": {
        "colab": {
          "base_uri": "https://localhost:8080/",
          "height": 176
        },
        "id": "DPn8N_5vWFBU",
        "outputId": "77bb9b1b-b0e4-4afa-cab2-d3ad908912cb"
      },
      "execution_count": 30,
      "outputs": [
        {
          "output_type": "error",
          "ename": "AttributeError",
          "evalue": "'P' object has no attribute 'm1'",
          "traceback": [
            "\u001b[0;31m---------------------------------------------------------------------------\u001b[0m",
            "\u001b[0;31mAttributeError\u001b[0m                            Traceback (most recent call last)",
            "\u001b[0;32m<ipython-input-30-ad221819727b>\u001b[0m in \u001b[0;36m<cell line: 16>\u001b[0;34m()\u001b[0m\n\u001b[1;32m     14\u001b[0m \u001b[0;34m\u001b[0m\u001b[0m\n\u001b[1;32m     15\u001b[0m \u001b[0mp\u001b[0m\u001b[0;34m=\u001b[0m\u001b[0mP\u001b[0m\u001b[0;34m(\u001b[0m\u001b[0;34m)\u001b[0m\u001b[0;34m\u001b[0m\u001b[0;34m\u001b[0m\u001b[0m\n\u001b[0;32m---> 16\u001b[0;31m \u001b[0mp\u001b[0m\u001b[0;34m.\u001b[0m\u001b[0mm1\u001b[0m\u001b[0;34m(\u001b[0m\u001b[0;34m)\u001b[0m\u001b[0;34m\u001b[0m\u001b[0;34m\u001b[0m\u001b[0m\n\u001b[0m",
            "\u001b[0;31mAttributeError\u001b[0m: 'P' object has no attribute 'm1'"
          ]
        }
      ]
    }
  ]
}