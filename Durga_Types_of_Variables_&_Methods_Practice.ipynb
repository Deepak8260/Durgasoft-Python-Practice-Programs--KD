{
  "nbformat": 4,
  "nbformat_minor": 0,
  "metadata": {
    "colab": {
      "provenance": [],
      "authorship_tag": "ABX9TyOLJw4aJ0cfVpbJmoG4Zc0d",
      "include_colab_link": true
    },
    "kernelspec": {
      "name": "python3",
      "display_name": "Python 3"
    },
    "language_info": {
      "name": "python"
    }
  },
  "cells": [
    {
      "cell_type": "markdown",
      "metadata": {
        "id": "view-in-github",
        "colab_type": "text"
      },
      "source": [
        "<a href=\"https://colab.research.google.com/github/Deepak8260/Durgasoft-Python-Practice-Programs--KD/blob/main/Durga_Types_of_Variables_%26_Methods_Practice.ipynb\" target=\"_parent\"><img src=\"https://colab.research.google.com/assets/colab-badge.svg\" alt=\"Open In Colab\"/></a>"
      ]
    },
    {
      "cell_type": "code",
      "execution_count": null,
      "metadata": {
        "id": "cDZltIn3byrF",
        "colab": {
          "base_uri": "https://localhost:8080/"
        },
        "outputId": "d105ae58-faa7-4d6f-edb0-f46e2aad2d4f"
      },
      "outputs": [
        {
          "output_type": "stream",
          "name": "stdout",
          "text": [
            "Address Of Self is 133229071052336\n",
            "Address Of t is    133229071052336\n"
          ]
        }
      ],
      "source": [
        "class Test:\n",
        "  def __init__(self):\n",
        "    print(f'Address Of Self is {id(self)}')\n",
        "\n",
        "t=Test()\n",
        "print(f'Address Of t is    {id(t)}')"
      ]
    },
    {
      "cell_type": "code",
      "source": [
        "class Test:\n",
        "  def __init__(delf,name):\n",
        "    delf.name=name\n",
        "  def m1(self):\n",
        "    print(f'My Name is {self.name}')\n",
        "\n",
        "t=Test('Deepak')\n",
        "t.m1()"
      ],
      "metadata": {
        "colab": {
          "base_uri": "https://localhost:8080/"
        },
        "id": "w3HduzJ5kgrs",
        "outputId": "d769f91a-1ac9-46b1-a4e2-44b9a959a728"
      },
      "execution_count": null,
      "outputs": [
        {
          "output_type": "stream",
          "name": "stdout",
          "text": [
            "My Name is Deepak\n"
          ]
        }
      ]
    },
    {
      "cell_type": "code",
      "source": [
        "class Boy:\n",
        "  def __init__(self):\n",
        "    print('Init Method')\n",
        "  def Boy(self):\n",
        "    print('Boy Method')\n",
        "b=Boy()\n",
        "b.Boy()"
      ],
      "metadata": {
        "colab": {
          "base_uri": "https://localhost:8080/"
        },
        "id": "edrp2LPKmM2l",
        "outputId": "48ad260d-6880-4765-b343-ae7a6a178b2f"
      },
      "execution_count": null,
      "outputs": [
        {
          "output_type": "stream",
          "name": "stdout",
          "text": [
            "Init Method\n",
            "Boy Method\n"
          ]
        }
      ]
    },
    {
      "cell_type": "code",
      "source": [
        "class Test:\n",
        "  def __init__(self,name):\n",
        "    self.name=name\n",
        "\n",
        "  def instance(self):\n",
        "    print(self.name)\n",
        "\n",
        "t=Test('Kumar')\n",
        "t.instance()"
      ],
      "metadata": {
        "colab": {
          "base_uri": "https://localhost:8080/"
        },
        "id": "piVJEIXUnMD0",
        "outputId": "f5c0c07b-2581-4648-9f12-8fcdb97f5120"
      },
      "execution_count": null,
      "outputs": [
        {
          "output_type": "stream",
          "name": "stdout",
          "text": [
            "Kumar\n"
          ]
        }
      ]
    },
    {
      "cell_type": "code",
      "source": [
        "class Test:\n",
        "  a=20\n",
        "  @classmethod\n",
        "  def m1(cls):\n",
        "    print(cls.a)\n",
        "\n",
        "t=Test()\n",
        "t.m1()\n",
        "Test.m1()"
      ],
      "metadata": {
        "colab": {
          "base_uri": "https://localhost:8080/"
        },
        "id": "YdC4GikNvOhO",
        "outputId": "c339ba85-2831-49b4-e02c-837274a1a66a"
      },
      "execution_count": null,
      "outputs": [
        {
          "output_type": "stream",
          "name": "stdout",
          "text": [
            "20\n",
            "20\n"
          ]
        }
      ]
    },
    {
      "cell_type": "code",
      "source": [
        "class Test:\n",
        "  @staticmethod\n",
        "  def m1(a,b):\n",
        "    c=a+b\n",
        "    print(f'Sum is {c}')\n",
        "\n",
        "t=Test()\n",
        "t.m1(5,6)\n",
        "Test.m1(5,6)"
      ],
      "metadata": {
        "colab": {
          "base_uri": "https://localhost:8080/"
        },
        "id": "T-6WCQrrvipD",
        "outputId": "6dd33d2c-49e8-49ff-b639-28bd8f314aec"
      },
      "execution_count": null,
      "outputs": [
        {
          "output_type": "stream",
          "name": "stdout",
          "text": [
            "Sum is 11\n",
            "Sum is 11\n"
          ]
        }
      ]
    },
    {
      "cell_type": "code",
      "source": [
        "class Student:\n",
        "  clgName='Bhadrak Auto. College'  #static Variable\n",
        "  dist='Bhadrak' #static Variable\n",
        "\n",
        "  def __init__(self,name): #Constructor\n",
        "    self.name=name\n",
        "\n",
        "  def getStudentsInfo(self): #Instance Variable\n",
        "    print(f'Name of student is {self.name}')\n",
        "\n",
        "  @classmethod\n",
        "  def getCollegeInfo(cls):\n",
        "    print(f'College Name : {cls.clgName}')\n",
        "    print(f'District : {cls.dist}')\n",
        "\n",
        "  @staticmethod\n",
        "  def add(a,b):\n",
        "    return a+b\n",
        "\n",
        "s=Student(\"Kumar Deepak\")\n",
        "s.getStudentsInfo()\n",
        "s.getCollegeInfo()\n",
        "print(f'The sum of 5 and 6 is {s.add(5,6)}')"
      ],
      "metadata": {
        "id": "cYktLaAFwFmF",
        "colab": {
          "base_uri": "https://localhost:8080/"
        },
        "outputId": "02d824b2-4bdc-461d-90ae-1641157ddee3"
      },
      "execution_count": 4,
      "outputs": [
        {
          "output_type": "stream",
          "name": "stdout",
          "text": [
            "Name of student is Kumar Deepak\n",
            "College Name : Bhadrak Auto. College\n",
            "District : Bhadrak\n",
            "The sum of 5 and 6 is 11\n"
          ]
        }
      ]
    },
    {
      "cell_type": "markdown",
      "source": [
        "How to declare and access Instance Variable"
      ],
      "metadata": {
        "id": "5yMyjyrNu0Gz"
      }
    },
    {
      "cell_type": "code",
      "source": [
        "#How to declare Instance Variable\n",
        "class T:\n",
        "  def __init__(self):\n",
        "    self.a=20\n",
        "\n",
        "  def m1(self):\n",
        "    self.b=10\n",
        "    print(self.a)\n",
        "    print(self.b)\n",
        "\n",
        "t=T()\n",
        "t.m1()\n",
        "t.a\n",
        "t.c=30\n",
        "print(t.c)"
      ],
      "metadata": {
        "colab": {
          "base_uri": "https://localhost:8080/"
        },
        "id": "R3W3IcRIXpKD",
        "outputId": "67bb70a5-cde1-449b-9c1a-4ade02bdfd07"
      },
      "execution_count": 6,
      "outputs": [
        {
          "output_type": "stream",
          "name": "stdout",
          "text": [
            "20\n",
            "10\n",
            "30\n"
          ]
        }
      ]
    },
    {
      "cell_type": "markdown",
      "source": [
        "How to delete Instance Variable"
      ],
      "metadata": {
        "id": "ivKzTcpzuxn2"
      }
    },
    {
      "cell_type": "code",
      "source": [
        "class T:\n",
        "  def __init__(self):\n",
        "    self.a=10\n",
        "    self.b=20\n",
        "    self.c=30\n",
        "    self.d=40\n",
        "\n",
        "  def m1(self):\n",
        "    del self.a\n",
        "\n",
        "t=T()\n",
        "print(f'Intsance Variables for t : {t.__dict__}')\n",
        "t.m1()\n",
        "print(f'Intsance Variables for t : {t.__dict__}')\n",
        "del t.b\n",
        "print(f'Intsance Variables for t : {t.__dict__}')\n",
        "print()\n",
        "\n",
        "t1=T()\n",
        "print(f'Intsance Variables for t1 : {t1.__dict__}')"
      ],
      "metadata": {
        "colab": {
          "base_uri": "https://localhost:8080/"
        },
        "id": "6mfa6Y1QuWzW",
        "outputId": "ebc3b017-aa0b-4068-8ab7-1d5d44591d48"
      },
      "execution_count": 8,
      "outputs": [
        {
          "output_type": "stream",
          "name": "stdout",
          "text": [
            "Intsance Variables for t : {'a': 10, 'b': 20, 'c': 30, 'd': 40}\n",
            "Intsance Variables for t : {'b': 20, 'c': 30, 'd': 40}\n",
            "Intsance Variables for t : {'c': 30, 'd': 40}\n",
            "\n",
            "Intsance Variables for t1 : {'a': 10, 'b': 20, 'c': 30, 'd': 40}\n"
          ]
        }
      ]
    },
    {
      "cell_type": "code",
      "source": [
        "print(t.__class__)"
      ],
      "metadata": {
        "colab": {
          "base_uri": "https://localhost:8080/"
        },
        "id": "mXKbEJPvvuqs",
        "outputId": "4d1660db-6df0-4b5e-a29b-5ff4b64fa418"
      },
      "execution_count": 10,
      "outputs": [
        {
          "output_type": "stream",
          "name": "stdout",
          "text": [
            "<class '__main__.T'>\n"
          ]
        }
      ]
    },
    {
      "cell_type": "code",
      "source": [
        "class T:\n",
        "  def __init__(self):\n",
        "    self.a=10\n",
        "    self.b=20\n",
        "\n",
        "t=T()\n",
        "t.a=11\n",
        "t.b=22\n",
        "print(t.__dict__)\n",
        "print()\n",
        "t1=T()\n",
        "print(t1.__dict__)"
      ],
      "metadata": {
        "colab": {
          "base_uri": "https://localhost:8080/"
        },
        "id": "2i_OurKowUJU",
        "outputId": "dfaf215a-388a-48b6-89eb-4e6f3ce58838"
      },
      "execution_count": 12,
      "outputs": [
        {
          "output_type": "stream",
          "name": "stdout",
          "text": [
            "{'a': 11, 'b': 22}\n",
            "\n",
            "{'a': 10, 'b': 20}\n"
          ]
        }
      ]
    },
    {
      "cell_type": "code",
      "source": [
        "#Accessing Static Variable\n",
        "class T:\n",
        "  a=10\n",
        "  def __init__(self):\n",
        "    T.b=20\n",
        "    print(f'Accessing using self inside Constructor, b= :{self.b}')\n",
        "\n",
        "  def m1(self):\n",
        "    T.c=30\n",
        "    print(f'Accessing using ClassName inside Instance Method, c=  :{T.c}')\n",
        "\n",
        "  @classmethod\n",
        "  def m2(cls):\n",
        "    T.d=40\n",
        "    cls.e=50\n",
        "    print(f'Accessing using cls inside Class Method, d= :{cls.d}')\n",
        "    print(f'Accessing using Classname inside Class Method, e= :{T.e}')\n",
        "\n",
        "  @staticmethod\n",
        "  def m3():\n",
        "    T.f=60\n",
        "    print(f'Accessing using Classname inside Static Method, f= :{T.f}')\n",
        "    print()\n",
        "\n",
        "T.g=70\n",
        "t=T()\n",
        "t.m1()\n",
        "t.m2()\n",
        "t.m3()\n",
        "\n",
        "print(f'Accessing using Object Reference outside the clsss, a= :{t.a}')\n",
        "print(f'Accessing using Object Reference outside the clsss, b= :{t.b}')\n",
        "print(f'Accessing using Object Reference outside the clsss, c= :{t.c}')\n",
        "print(f'Accessing using Object Reference outside the clsss, d= :{t.d}')\n",
        "print(f'Accessing using Object Reference outside the clsss, e= :{t.e}')\n",
        "print(f'Accessing using Object Reference outside the clsss, f= :{t.f}')\n",
        "print(f'Accessing using Classname outside the class,        g= :{T.g}')"
      ],
      "metadata": {
        "colab": {
          "base_uri": "https://localhost:8080/"
        },
        "id": "KUF0Ht-8zN-6",
        "outputId": "ccef7ac0-7662-40e7-f06e-18a673bc46a9"
      },
      "execution_count": 18,
      "outputs": [
        {
          "output_type": "stream",
          "name": "stdout",
          "text": [
            "Accessing using self inside Constructor, b= :20\n",
            "Accessing using ClassName inside Instance Method, c=  :30\n",
            "Accessing using cls inside Class Method, d= :40\n",
            "Accessing using Classname inside Class Method, e= :50\n",
            "Accessing using Classname inside Static Method, f= :60\n",
            "\n",
            "Accessing using Object Reference outside the clsss, a= :10\n",
            "Accessing using Object Reference outside the clsss, b= :20\n",
            "Accessing using Object Reference outside the clsss, c= :30\n",
            "Accessing using Object Reference outside the clsss, d= :40\n",
            "Accessing using Object Reference outside the clsss, e= :50\n",
            "Accessing using Object Reference outside the clsss, f= :60\n",
            "Accessing using Classname outside the class,        g= :70\n"
          ]
        }
      ]
    },
    {
      "cell_type": "code",
      "source": [
        "#modify static Variable\n",
        "class T:\n",
        "  a=10\n",
        "  def m1(self):\n",
        "    self.a=888\n",
        "\n",
        "t=T()\n",
        "#T.a=40\n",
        "t.m1()\n",
        "print(T.a)\n",
        "print(t.a)\n",
        "\n"
      ],
      "metadata": {
        "colab": {
          "base_uri": "https://localhost:8080/"
        },
        "id": "Tb7vwBW92N5g",
        "outputId": "1312ad31-8713-4d6b-a9b9-4cb791c974f6"
      },
      "execution_count": 24,
      "outputs": [
        {
          "output_type": "stream",
          "name": "stdout",
          "text": [
            "10\n",
            "888\n"
          ]
        }
      ]
    },
    {
      "cell_type": "code",
      "source": [
        "from re import A\n",
        "#Getters and Setters\n",
        "class Student:\n",
        "  def setName(self,n):\n",
        "    self.name=n\n",
        "\n",
        "  def getName(self):\n",
        "    return self.name\n",
        "\n",
        "  def setAge(self,a):\n",
        "    self.age=a\n",
        "\n",
        "  def getAge(self):\n",
        "    return self.age\n",
        "\n",
        "s=Student()\n",
        "s.setName('Deepak')\n",
        "s.setAge(20)\n",
        "print(f'My name is {s.getName()}')\n",
        "print(f'My Age is {s.getAge()}')\n"
      ],
      "metadata": {
        "colab": {
          "base_uri": "https://localhost:8080/"
        },
        "id": "fJY0bLbf4YuZ",
        "outputId": "69e58018-7c7c-4b9b-ceb5-b88cdd3320a5"
      },
      "execution_count": 27,
      "outputs": [
        {
          "output_type": "stream",
          "name": "stdout",
          "text": [
            "My name is Deepak\n",
            "My Age is 20\n"
          ]
        }
      ]
    },
    {
      "cell_type": "code",
      "source": [
        "class Class:\n",
        "  count=0\n",
        "  def __init__(self):\n",
        "    Class.count+=1\n",
        "\n",
        "  @classmethod\n",
        "  def m1(cls):\n",
        "    print(f'Total No of Objects are {cls.count}')\n",
        "\n",
        "Class.m1()\n",
        "c=Class()\n",
        "Class.m1()\n",
        "c1=Class()\n",
        "Class.m1()\n",
        "c2=Class()\n",
        "Class.m1()"
      ],
      "metadata": {
        "colab": {
          "base_uri": "https://localhost:8080/"
        },
        "id": "YyxKB0wz8G_h",
        "outputId": "7977786f-a16f-487d-c7d4-9477d7f2e9c8"
      },
      "execution_count": 29,
      "outputs": [
        {
          "output_type": "stream",
          "name": "stdout",
          "text": [
            "Total No of Objects are 0\n",
            "Total No of Objects are 1\n",
            "Total No of Objects are 2\n",
            "Total No of Objects are 3\n"
          ]
        }
      ]
    },
    {
      "cell_type": "code",
      "source": [
        "class Kumar:\n",
        "  @staticmethod\n",
        "  def add(a,b):\n",
        "    return a+b\n",
        "\n",
        "  @staticmethod\n",
        "  def mul(a,b):\n",
        "    return a*b\n",
        "\n",
        "  @staticmethod\n",
        "  def avg(a,b):\n",
        "    return (a+b)/2\n",
        "\n",
        "print(f'Sum using class name ={Kumar.add(6,5)}')\n",
        "print(f'Product using class name ={Kumar.mul(6,5)}')\n",
        "print(f'Average using class name ={Kumar.avg(6,5)}')\n",
        "print()\n",
        "\n",
        "k=Kumar()\n",
        "print(f'Sum using object reference ={k.add(6,5)}')\n",
        "print(f'Product using object reference ={k.mul(6,5)}')\n",
        "print(f'Average using object reference ={k.avg(6,5)}')\n"
      ],
      "metadata": {
        "colab": {
          "base_uri": "https://localhost:8080/"
        },
        "id": "P3JrG4H094h4",
        "outputId": "647be4a5-66a8-4848-f0b5-6792f9b461b2"
      },
      "execution_count": 31,
      "outputs": [
        {
          "output_type": "stream",
          "name": "stdout",
          "text": [
            "Sum using class name =11\n",
            "Product using class name =30\n",
            "Average using class name =5.5\n",
            "\n",
            "Sum using object reference =11\n",
            "Product using object reference =30\n",
            "Average using object reference =5.5\n"
          ]
        }
      ]
    },
    {
      "cell_type": "code",
      "source": [
        "class T:\n",
        "  def add(a,b):\n",
        "    print(b)\n",
        "t=T()\n",
        "t.add(20)#act as instance method\n",
        "T.add(10,90)#act as Static Method\n"
      ],
      "metadata": {
        "colab": {
          "base_uri": "https://localhost:8080/"
        },
        "id": "FluQGKFZ-8hf",
        "outputId": "fb9abc8f-0ae6-40af-d148-a9533ef05fc4"
      },
      "execution_count": 37,
      "outputs": [
        {
          "output_type": "stream",
          "name": "stdout",
          "text": [
            "20\n",
            "90\n"
          ]
        }
      ]
    },
    {
      "cell_type": "markdown",
      "source": [
        "passing members of 1 class into another class"
      ],
      "metadata": {
        "id": "7g21vgDwRBoR"
      }
    },
    {
      "cell_type": "code",
      "source": [
        "class T:\n",
        "  def __init__(self,eno,esal):\n",
        "    self.eno=eno\n",
        "    self.esal=esal\n",
        "\n",
        "  def m1(self):\n",
        "    print(f'employee Number: {self.eno}')\n",
        "    print(f'Employee Salary:{self.esal}')\n",
        "\n",
        "class P:\n",
        "  def salary(emp):\n",
        "    emp.salary=emp.esal + 500\n",
        "    emp.m1()\n",
        "\n",
        "p=T(50,1000)\n",
        "P.salary(p)"
      ],
      "metadata": {
        "colab": {
          "base_uri": "https://localhost:8080/"
        },
        "id": "1xmOfT3cQVOD",
        "outputId": "7d3c6413-27b3-4e4e-c070-071c54599e96"
      },
      "execution_count": 39,
      "outputs": [
        {
          "output_type": "stream",
          "name": "stdout",
          "text": [
            "employee Number: 50\n",
            "Employee Salary:1000\n"
          ]
        }
      ]
    },
    {
      "cell_type": "code",
      "source": [],
      "metadata": {
        "id": "FlrkYrH_SnJZ"
      },
      "execution_count": null,
      "outputs": []
    }
  ]
}