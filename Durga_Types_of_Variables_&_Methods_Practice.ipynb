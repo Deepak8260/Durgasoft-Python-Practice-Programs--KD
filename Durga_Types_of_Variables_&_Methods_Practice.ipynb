{
  "nbformat": 4,
  "nbformat_minor": 0,
  "metadata": {
    "colab": {
      "provenance": [],
      "authorship_tag": "ABX9TyN6JomAA4LQ/S1c7soeICgs",
      "include_colab_link": true
    },
    "kernelspec": {
      "name": "python3",
      "display_name": "Python 3"
    },
    "language_info": {
      "name": "python"
    }
  },
  "cells": [
    {
      "cell_type": "markdown",
      "metadata": {
        "id": "view-in-github",
        "colab_type": "text"
      },
      "source": [
        "<a href=\"https://colab.research.google.com/github/Deepak8260/Durgasoft-Python-Practice-Programs--KD/blob/main/Durga_Types_of_Variables_%26_Methods_Practice.ipynb\" target=\"_parent\"><img src=\"https://colab.research.google.com/assets/colab-badge.svg\" alt=\"Open In Colab\"/></a>"
      ]
    },
    {
      "cell_type": "code",
      "execution_count": 5,
      "metadata": {
        "id": "cDZltIn3byrF",
        "colab": {
          "base_uri": "https://localhost:8080/"
        },
        "outputId": "d105ae58-faa7-4d6f-edb0-f46e2aad2d4f"
      },
      "outputs": [
        {
          "output_type": "stream",
          "name": "stdout",
          "text": [
            "Address Of Self is 133229071052336\n",
            "Address Of t is    133229071052336\n"
          ]
        }
      ],
      "source": [
        "class Test:\n",
        "  def __init__(self):\n",
        "    print(f'Address Of Self is {id(self)}')\n",
        "\n",
        "t=Test()\n",
        "print(f'Address Of t is    {id(t)}')"
      ]
    },
    {
      "cell_type": "code",
      "source": [
        "class Test:\n",
        "  def __init__(delf,name):\n",
        "    delf.name=name\n",
        "  def m1(self):\n",
        "    print(f'My Name is {self.name}')\n",
        "\n",
        "t=Test('Deepak')\n",
        "t.m1()"
      ],
      "metadata": {
        "colab": {
          "base_uri": "https://localhost:8080/"
        },
        "id": "w3HduzJ5kgrs",
        "outputId": "d769f91a-1ac9-46b1-a4e2-44b9a959a728"
      },
      "execution_count": 7,
      "outputs": [
        {
          "output_type": "stream",
          "name": "stdout",
          "text": [
            "My Name is Deepak\n"
          ]
        }
      ]
    },
    {
      "cell_type": "code",
      "source": [
        "class Boy:\n",
        "  def __init__(self):\n",
        "    print('Init Method')\n",
        "  def Boy(self):\n",
        "    print('Boy Method')\n",
        "b=Boy()\n",
        "b.Boy()"
      ],
      "metadata": {
        "colab": {
          "base_uri": "https://localhost:8080/"
        },
        "id": "edrp2LPKmM2l",
        "outputId": "48ad260d-6880-4765-b343-ae7a6a178b2f"
      },
      "execution_count": 9,
      "outputs": [
        {
          "output_type": "stream",
          "name": "stdout",
          "text": [
            "Init Method\n",
            "Boy Method\n"
          ]
        }
      ]
    },
    {
      "cell_type": "code",
      "source": [
        "class Test:\n",
        "  def __init__(self,name):\n",
        "    self.name=name\n",
        "\n",
        "  def instance(self):\n",
        "    print(self.name)\n",
        "\n",
        "t=Test('Kumar')\n",
        "t.instance()"
      ],
      "metadata": {
        "colab": {
          "base_uri": "https://localhost:8080/"
        },
        "id": "piVJEIXUnMD0",
        "outputId": "f5c0c07b-2581-4648-9f12-8fcdb97f5120"
      },
      "execution_count": 10,
      "outputs": [
        {
          "output_type": "stream",
          "name": "stdout",
          "text": [
            "Kumar\n"
          ]
        }
      ]
    },
    {
      "cell_type": "code",
      "source": [
        "class Test:\n",
        "  a=20\n",
        "  @classmethod\n",
        "  def m1(cls):\n",
        "    print(cls.a)\n",
        "\n",
        "t=Test()\n",
        "t.m1()\n",
        "Test.m1()"
      ],
      "metadata": {
        "colab": {
          "base_uri": "https://localhost:8080/"
        },
        "id": "YdC4GikNvOhO",
        "outputId": "c339ba85-2831-49b4-e02c-837274a1a66a"
      },
      "execution_count": 13,
      "outputs": [
        {
          "output_type": "stream",
          "name": "stdout",
          "text": [
            "20\n",
            "20\n"
          ]
        }
      ]
    },
    {
      "cell_type": "code",
      "source": [
        "class Test:\n",
        "  @staticmethod\n",
        "  def m1(a,b):\n",
        "    c=a+b\n",
        "    print(f'Sum is {c}')\n",
        "\n",
        "t=Test()\n",
        "t.m1(5,6)\n",
        "Test.m1(5,6)"
      ],
      "metadata": {
        "colab": {
          "base_uri": "https://localhost:8080/"
        },
        "id": "T-6WCQrrvipD",
        "outputId": "6dd33d2c-49e8-49ff-b639-28bd8f314aec"
      },
      "execution_count": 16,
      "outputs": [
        {
          "output_type": "stream",
          "name": "stdout",
          "text": [
            "Sum is 11\n",
            "Sum is 11\n"
          ]
        }
      ]
    },
    {
      "cell_type": "code",
      "source": [],
      "metadata": {
        "id": "cYktLaAFwFmF"
      },
      "execution_count": null,
      "outputs": []
    }
  ]
}