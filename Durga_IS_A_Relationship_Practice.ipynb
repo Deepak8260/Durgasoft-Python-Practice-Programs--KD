{
  "nbformat": 4,
  "nbformat_minor": 0,
  "metadata": {
    "colab": {
      "provenance": [],
      "authorship_tag": "ABX9TyMGG362RfgmRAvFbhCbcOG4",
      "include_colab_link": true
    },
    "kernelspec": {
      "name": "python3",
      "display_name": "Python 3"
    },
    "language_info": {
      "name": "python"
    }
  },
  "cells": [
    {
      "cell_type": "markdown",
      "metadata": {
        "id": "view-in-github",
        "colab_type": "text"
      },
      "source": [
        "<a href=\"https://colab.research.google.com/github/Deepak8260/Durgasoft-Python-Practice-Programs--KD/blob/main/Durga_IS_A_Relationship_Practice.ipynb\" target=\"_parent\"><img src=\"https://colab.research.google.com/assets/colab-badge.svg\" alt=\"Open In Colab\"/></a>"
      ]
    },
    {
      "cell_type": "code",
      "execution_count": 1,
      "metadata": {
        "colab": {
          "base_uri": "https://localhost:8080/"
        },
        "id": "G_8JWsJpq09k",
        "outputId": "651de496-fecd-47a8-8b34-b823abb7b1fb"
      },
      "outputs": [
        {
          "output_type": "stream",
          "name": "stdout",
          "text": [
            "m1 Method of Parent Class\n",
            "m2 Method of Child Class\n"
          ]
        }
      ],
      "source": [
        "class Parent:\n",
        "  def m1(self):\n",
        "    print('m1 Method of Parent Class')\n",
        "\n",
        "class Child(Parent):\n",
        "  def m2(self):\n",
        "    print('m2 Method of Child Class')\n",
        "\n",
        "c=Child()\n",
        "c.m1()\n",
        "c.m2()"
      ]
    },
    {
      "cell_type": "code",
      "source": [
        "from os import stat\n",
        "class Parent:\n",
        "  a=10\n",
        "  def __init__(self):\n",
        "    print('Parent Class Constructor')\n",
        "    self.b=200\n",
        "\n",
        "  @classmethod\n",
        "  def m1(cls):\n",
        "    print('Parent Class Class Method')\n",
        "\n",
        "  @staticmethod\n",
        "  def m2():\n",
        "    print('Parent Class Static Method')\n",
        "\n",
        "\n",
        "class Child(Parent):\n",
        "  pass\n",
        "\n",
        "c=Child()\n",
        "c.m1()\n",
        "c.m2()\n",
        "print(c.a)\n",
        "print(c.b)"
      ],
      "metadata": {
        "colab": {
          "base_uri": "https://localhost:8080/"
        },
        "id": "iAOUxnzdrV8t",
        "outputId": "5982373b-c3ab-49ae-8fe0-9ec79f8d4eea"
      },
      "execution_count": 2,
      "outputs": [
        {
          "output_type": "stream",
          "name": "stdout",
          "text": [
            "Parent Class Constructor\n",
            "Parent Class Class Method\n",
            "Parent Class Static Method\n",
            "10\n",
            "200\n"
          ]
        }
      ]
    },
    {
      "cell_type": "code",
      "source": [
        "class Parent:\n",
        "  def __init__(self):\n",
        "    print('Parent Class Constructor')\n",
        "    self.a=999\n",
        "\n",
        "class Child(Parent):\n",
        "  def __init__(self):\n",
        "    super().__init__()\n",
        "    print('Child Class Constructor')\n",
        "    self.b=888\n",
        "\n",
        "c=Child()\n",
        "print(c.b)\n",
        "print(c.a)"
      ],
      "metadata": {
        "colab": {
          "base_uri": "https://localhost:8080/"
        },
        "id": "CJMC00khtoTj",
        "outputId": "9972efdc-326b-4917-cc02-07b19c316e7c"
      },
      "execution_count": 7,
      "outputs": [
        {
          "output_type": "stream",
          "name": "stdout",
          "text": [
            "Parent Class Constructor\n",
            "Child Class Constructor\n",
            "888\n",
            "999\n"
          ]
        }
      ]
    },
    {
      "cell_type": "code",
      "source": [
        "class Parent:\n",
        "  def __init__(self,name,age):\n",
        "    self.name=name\n",
        "    self.age=age\n",
        "\n",
        "  def eatDrink():\n",
        "    print('Eat Biriyani and Drink Fruit Juice')\n",
        "\n",
        "class Child(Parent):\n",
        "  def __init__(self,name,age,esal,eno):\n",
        "    super().__init__(name,age)\n",
        "    self.esal=esal\n",
        "    self.eno=eno\n",
        "\n",
        "  def work(self):\n",
        "    print('Coding Python')\n",
        "\n",
        "  def empInfo(self):\n",
        "    print(f'Employee Name is {self.name}')\n",
        "    print(f'Employee Age is {self.age}')\n",
        "    print(f'Employee Number is {self.eno}')\n",
        "    print(f'Employee Salary is {self.esal}')\n",
        "\n",
        "c=Child('Kumar',20,\"Rs 1,00,000\",3563456)\n",
        "#c.eatDrink()\n",
        "Child.eatDrink()\n",
        "c.work()\n",
        "c.empInfo()"
      ],
      "metadata": {
        "colab": {
          "base_uri": "https://localhost:8080/"
        },
        "id": "rVFr2I-Sy6Fk",
        "outputId": "9cc4fd92-ae9c-422d-c8c6-21468f6c9725"
      },
      "execution_count": 13,
      "outputs": [
        {
          "output_type": "stream",
          "name": "stdout",
          "text": [
            "Eat Biriyani and Drink Fruit Juice\n",
            "Coding Python\n",
            "Employee Name is Kumar\n",
            "Employee Age is 20\n",
            "Employee Number is 3563456\n",
            "Employee Salary is Rs 1,00,000\n"
          ]
        }
      ]
    },
    {
      "cell_type": "code",
      "source": [
        "class Car:\n",
        "  def __init__(self,name,model,color):\n",
        "    self.name=name\n",
        "    self.model=model\n",
        "    self.color=color\n",
        "\n",
        "  def getInfo(self):\n",
        "    print(f'Car Name:{self.name} Model:{self.model} Color:{self.color}')\n",
        "\n",
        "class Person:\n",
        "  def __init__(self,name,age):\n",
        "    self.name=name\n",
        "    self.age=age\n",
        "\n",
        "  def eatdrink(self):\n",
        "    print('Eating Biriyani and Drinking Beer')\n",
        "\n",
        "class Employee(Person): #Is-A Relationship that is Inheritance\n",
        "  def __init__(self,name,age,eno,esal,car):\n",
        "    super().__init__(name,age)\n",
        "    self.eno=eno\n",
        "    self.esal=esal\n",
        "    self.car=car #HAS-A Relationship\n",
        "\n",
        "  def work(self):\n",
        "    print('Python Coding !')\n",
        "\n",
        "  def empInfo(self):\n",
        "    print(f'Employee Name is {self.name}')\n",
        "    print(f'Employee Age is {self.age}')\n",
        "    print(f'Employee Salary is {self.esal}')\n",
        "    print(f'Employee Number is {self.eno}')\n",
        "    print(f'Car Details :')\n",
        "    self.car.getInfo()\n",
        "\n",
        "car=Car('Suzuki',356354,'Blue')\n",
        "e=Employee('Deepak',20,35634,100000,car)\n",
        "e.eatdrink()\n",
        "e.work()\n",
        "e.empInfo()"
      ],
      "metadata": {
        "colab": {
          "base_uri": "https://localhost:8080/"
        },
        "id": "Ne3SAjkm2oiR",
        "outputId": "19e6ea0d-a5cc-4399-a629-31f780d206db"
      },
      "execution_count": 14,
      "outputs": [
        {
          "output_type": "stream",
          "name": "stdout",
          "text": [
            "Eating Biriyani and Drinking Beer\n",
            "Python Coding !\n",
            "Employee Name is Deepak\n",
            "Employee Age is 20\n",
            "Employee Salary is 100000\n",
            "Employee Number is 35634\n",
            "Car Details :\n",
            "Car Name:Suzuki Model:356354 Color:Blue\n"
          ]
        }
      ]
    },
    {
      "cell_type": "code",
      "source": [
        "class Professor:\n",
        "  def __init__(self):\n",
        "    print('Professor')\n",
        "\n",
        "class Department:\n",
        "  def __init__(self):\n",
        "    self.prof=Professor()\n",
        "    print('Department')\n",
        "\n",
        "d=Department()"
      ],
      "metadata": {
        "colab": {
          "base_uri": "https://localhost:8080/"
        },
        "id": "1QJlZVSJlga2",
        "outputId": "791d133b-71cb-4ad8-d543-cec3dd79092a"
      },
      "execution_count": 15,
      "outputs": [
        {
          "output_type": "stream",
          "name": "stdout",
          "text": [
            "Professor\n",
            "Department\n"
          ]
        }
      ]
    },
    {
      "cell_type": "code",
      "source": [
        "class Professor:\n",
        "  def __init__(self):\n",
        "    print('This Is Professor')\n",
        "\n",
        "class Student:\n",
        "  def __init__(self,prof):\n",
        "    self.prof=prof\n",
        "    print('This is Student')\n",
        "\n",
        "prof=Professor()\n",
        "s=Student(prof)"
      ],
      "metadata": {
        "colab": {
          "base_uri": "https://localhost:8080/"
        },
        "id": "T0aw_BiQr0RX",
        "outputId": "95c1b09a-26f8-4970-98db-86f6ba8b6f01"
      },
      "execution_count": 16,
      "outputs": [
        {
          "output_type": "stream",
          "name": "stdout",
          "text": [
            "This Is Professor\n",
            "This is Student\n"
          ]
        }
      ]
    },
    {
      "cell_type": "code",
      "source": [
        "class Student:\n",
        "  clgName='Sulagna'\n",
        "  def __init__(self,name):\n",
        "    self.name=name\n",
        "\n",
        "print(Student.clgName) # Without Student object also we can access clgName so it is weak associaltion or Aggregation\n",
        "s=Student('Kumar') # Without Student object we can't access STudent Name so it is Strong Associaltion or Composition"
      ],
      "metadata": {
        "id": "GscLTvmms3ju"
      },
      "execution_count": null,
      "outputs": []
    }
  ]
}