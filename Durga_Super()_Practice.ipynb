{
  "nbformat": 4,
  "nbformat_minor": 0,
  "metadata": {
    "colab": {
      "provenance": [],
      "authorship_tag": "ABX9TyMywxaJeXML73WKF9UwEaeA",
      "include_colab_link": true
    },
    "kernelspec": {
      "name": "python3",
      "display_name": "Python 3"
    },
    "language_info": {
      "name": "python"
    }
  },
  "cells": [
    {
      "cell_type": "markdown",
      "metadata": {
        "id": "view-in-github",
        "colab_type": "text"
      },
      "source": [
        "<a href=\"https://colab.research.google.com/github/Deepak8260/Durgasoft-Python-Practice-Programs--KD/blob/main/Durga_Super()_Practice.ipynb\" target=\"_parent\"><img src=\"https://colab.research.google.com/assets/colab-badge.svg\" alt=\"Open In Colab\"/></a>"
      ]
    },
    {
      "cell_type": "code",
      "execution_count": 1,
      "metadata": {
        "colab": {
          "base_uri": "https://localhost:8080/"
        },
        "id": "_jhWxlqLmIQq",
        "outputId": "3e16b29e-ab05-4635-e11a-c87b8eed78f4"
      },
      "outputs": [
        {
          "output_type": "stream",
          "name": "stdout",
          "text": [
            "Child class Instance Method\n",
            "10\n",
            "Parent Class Instance Method\n",
            "Parent Class Class Method\n",
            "Parent Class Static Method\n",
            "Parent Class Constructor\n"
          ]
        }
      ],
      "source": [
        "class P:\n",
        "  def __init__(self):\n",
        "    print('Parent Class Constructor')\n",
        "  a=10\n",
        "\n",
        "  def m1(self):\n",
        "    print('Parent Class Instance Method')\n",
        "\n",
        "  @classmethod\n",
        "  def m2(cls):\n",
        "    print('Parent Class Class Method')\n",
        "\n",
        "  @staticmethod\n",
        "  def m3():\n",
        "    print('Parent Class Static Method')\n",
        "\n",
        "class C(P):\n",
        "  def __init__(self):\n",
        "    print('Child class Instance Method')\n",
        "\n",
        "  def m4(self):\n",
        "    print(P.a)\n",
        "    self.m1()\n",
        "    self.m2()\n",
        "    self.m3()\n",
        "    super().__init__()\n",
        "\n",
        "c=C()\n",
        "c.m4()"
      ]
    },
    {
      "cell_type": "code",
      "source": [
        "class Person:\n",
        "  def __init__(self,n,a,h,w):\n",
        "    self.name=n\n",
        "    self.age=a\n",
        "    self.height=h\n",
        "    self.weight=w\n",
        "\n",
        "  def display(self):\n",
        "    print(f'Name is {self.name}')\n",
        "    print(f'Age is {self.age}')\n",
        "    print(f'Height is {self.height}')\n",
        "    print(f'Weight is {self.weight}')\n",
        "\n",
        "class Student(Person):\n",
        "  def __init__(self,n,a,h,w,r,m):\n",
        "    super().__init__(n,a,h,w)\n",
        "    self.roll=r\n",
        "    self.marks=m\n",
        "\n",
        "  def display(self):\n",
        "    super().display()\n",
        "    print(f'Roll Number is {self.roll}')\n",
        "    print(f'Marks is {self.marks}')\n",
        "\n",
        "s=Student('Deepak',20,\"5 feet 7 inch\",'91 kg',35,100)\n",
        "s.display()"
      ],
      "metadata": {
        "colab": {
          "base_uri": "https://localhost:8080/"
        },
        "id": "1_GHtCz1mUyC",
        "outputId": "7d26b495-0167-4119-b416-234086018526"
      },
      "execution_count": 2,
      "outputs": [
        {
          "output_type": "stream",
          "name": "stdout",
          "text": [
            "Name is Deepak\n",
            "Age is 20\n",
            "Height is 5 feet 7 inch\n",
            "Weight is 91 kg\n",
            "Roll Number is 35\n",
            "Marks is 100\n"
          ]
        }
      ]
    },
    {
      "cell_type": "code",
      "source": [
        "class A:\n",
        "  def m1(self):\n",
        "    print('A Method')\n",
        "\n",
        "class B(A):\n",
        "  def m1(self):\n",
        "    print('B Method')\n",
        "class C(B):\n",
        "  def m1(self):\n",
        "    print('C Method')\n",
        "\n",
        "class D(C):\n",
        "  def m1(self):\n",
        "    print('D Method')\n",
        "\n",
        "class E(D):\n",
        "  def m1(self):\n",
        "    print('E Method')\n",
        "    B.m1(self)\n",
        "\n",
        "e=E()\n",
        "e.m1()"
      ],
      "metadata": {
        "colab": {
          "base_uri": "https://localhost:8080/"
        },
        "id": "Cq_Y7jKSmXNN",
        "outputId": "5267d69f-7962-45cd-addf-86b8afe6331d"
      },
      "execution_count": 3,
      "outputs": [
        {
          "output_type": "stream",
          "name": "stdout",
          "text": [
            "E Method\n",
            "B Method\n"
          ]
        }
      ]
    },
    {
      "cell_type": "code",
      "source": [
        "class P:\n",
        "  a=10\n",
        "  def __init__(self):\n",
        "    self.b=20\n",
        "\n",
        "class C(P):\n",
        "  def m1(self):\n",
        "    print(super().a) #or print(P.a) will also give the same output\n",
        "\n",
        "\n",
        "c=C()\n",
        "c.m1()\n"
      ],
      "metadata": {
        "colab": {
          "base_uri": "https://localhost:8080/"
        },
        "id": "D6rln_OSmZT6",
        "outputId": "a620c21d-bb3e-4b01-dc89-68f4396478c5"
      },
      "execution_count": 8,
      "outputs": [
        {
          "output_type": "stream",
          "name": "stdout",
          "text": [
            "10\n"
          ]
        }
      ]
    },
    {
      "cell_type": "code",
      "source": [
        "class P:\n",
        "  a=10\n",
        "  def __init__(self):\n",
        "    self.b=20\n",
        "\n",
        "class C(P):\n",
        "  def m1(self):\n",
        "    print(super().a)\n",
        "    print(super().b)# we cant access instance variable using super(). it should be only done using self\n",
        "\n",
        "c=C()\n",
        "c.m1()\n"
      ],
      "metadata": {
        "colab": {
          "base_uri": "https://localhost:8080/",
          "height": 315
        },
        "id": "XluQa16tpAfJ",
        "outputId": "49712b70-9992-4454-add9-e6773ae34e56"
      },
      "execution_count": 9,
      "outputs": [
        {
          "output_type": "stream",
          "name": "stdout",
          "text": [
            "10\n"
          ]
        },
        {
          "output_type": "error",
          "ename": "AttributeError",
          "evalue": "'super' object has no attribute 'b'",
          "traceback": [
            "\u001b[0;31m---------------------------------------------------------------------------\u001b[0m",
            "\u001b[0;31mAttributeError\u001b[0m                            Traceback (most recent call last)",
            "\u001b[0;32m<ipython-input-9-8e96365126b9>\u001b[0m in \u001b[0;36m<cell line: 12>\u001b[0;34m()\u001b[0m\n\u001b[1;32m     10\u001b[0m \u001b[0;34m\u001b[0m\u001b[0m\n\u001b[1;32m     11\u001b[0m \u001b[0mc\u001b[0m\u001b[0;34m=\u001b[0m\u001b[0mC\u001b[0m\u001b[0;34m(\u001b[0m\u001b[0;34m)\u001b[0m\u001b[0;34m\u001b[0m\u001b[0;34m\u001b[0m\u001b[0m\n\u001b[0;32m---> 12\u001b[0;31m \u001b[0mc\u001b[0m\u001b[0;34m.\u001b[0m\u001b[0mm1\u001b[0m\u001b[0;34m(\u001b[0m\u001b[0;34m)\u001b[0m\u001b[0;34m\u001b[0m\u001b[0;34m\u001b[0m\u001b[0m\n\u001b[0m",
            "\u001b[0;32m<ipython-input-9-8e96365126b9>\u001b[0m in \u001b[0;36mm1\u001b[0;34m(self)\u001b[0m\n\u001b[1;32m      7\u001b[0m   \u001b[0;32mdef\u001b[0m \u001b[0mm1\u001b[0m\u001b[0;34m(\u001b[0m\u001b[0mself\u001b[0m\u001b[0;34m)\u001b[0m\u001b[0;34m:\u001b[0m\u001b[0;34m\u001b[0m\u001b[0;34m\u001b[0m\u001b[0m\n\u001b[1;32m      8\u001b[0m     \u001b[0mprint\u001b[0m\u001b[0;34m(\u001b[0m\u001b[0msuper\u001b[0m\u001b[0;34m(\u001b[0m\u001b[0;34m)\u001b[0m\u001b[0;34m.\u001b[0m\u001b[0ma\u001b[0m\u001b[0;34m)\u001b[0m \u001b[0;31m#or print(P.a) will also give the same output\u001b[0m\u001b[0;34m\u001b[0m\u001b[0;34m\u001b[0m\u001b[0m\n\u001b[0;32m----> 9\u001b[0;31m     \u001b[0mprint\u001b[0m\u001b[0;34m(\u001b[0m\u001b[0msuper\u001b[0m\u001b[0;34m(\u001b[0m\u001b[0;34m)\u001b[0m\u001b[0;34m.\u001b[0m\u001b[0mb\u001b[0m\u001b[0;34m)\u001b[0m\u001b[0;34m\u001b[0m\u001b[0;34m\u001b[0m\u001b[0m\n\u001b[0m\u001b[1;32m     10\u001b[0m \u001b[0;34m\u001b[0m\u001b[0m\n\u001b[1;32m     11\u001b[0m \u001b[0mc\u001b[0m\u001b[0;34m=\u001b[0m\u001b[0mC\u001b[0m\u001b[0;34m(\u001b[0m\u001b[0;34m)\u001b[0m\u001b[0;34m\u001b[0m\u001b[0;34m\u001b[0m\u001b[0m\n",
            "\u001b[0;31mAttributeError\u001b[0m: 'super' object has no attribute 'b'"
          ]
        }
      ]
    },
    {
      "cell_type": "code",
      "source": [
        "class P:\n",
        "  a=10\n",
        "  def _init__(self):\n",
        "    self.b=20\n",
        "\n",
        "class C(P):\n",
        "  a=99\n",
        "  def __init__(self):\n",
        "    super().__init__()\n",
        "    self.b=30\n",
        "\n",
        "  def m1(self):\n",
        "    print(f'The value of a in C class is {self.a}')\n",
        "    print(f'The value of a in P class is {super().a}')\n",
        "    print(self.b)\n",
        "\n",
        "c=C()\n",
        "c.m1()"
      ],
      "metadata": {
        "colab": {
          "base_uri": "https://localhost:8080/"
        },
        "id": "wucFjHP4pCvQ",
        "outputId": "d8d0cd91-bfcf-408d-f916-4e0004e8d661"
      },
      "execution_count": 12,
      "outputs": [
        {
          "output_type": "stream",
          "name": "stdout",
          "text": [
            "The value of a in C class is 99\n",
            "The value of a in P class is 10\n",
            "30\n"
          ]
        }
      ]
    },
    {
      "cell_type": "markdown",
      "source": [
        "By using child class contructor, using super(), we can access:\n",
        "1. Parent class Constructor\n",
        "2. Parent class Instance Method\n",
        "3. Parent class Class Method\n",
        "4. Parent class Static Method"
      ],
      "metadata": {
        "id": "XGxM1xN5sKFy"
      }
    },
    {
      "cell_type": "code",
      "source": [
        "class P:\n",
        "  def __init__(self):\n",
        "    print('Parent class Constructor')\n",
        "\n",
        "  def m1(self):\n",
        "    print('P class Instance Method')\n",
        "\n",
        "  @classmethod\n",
        "  def m2(cls):\n",
        "    print('P Class Class Method')\n",
        "\n",
        "  @staticmethod\n",
        "  def m3():\n",
        "    print('P class Static Method')\n",
        "\n",
        "class C(P):\n",
        "  def __init__(self):\n",
        "    super().__init__()\n",
        "    super().m1()\n",
        "    super().m2()\n",
        "    super().m3()\n",
        "\n",
        "c=C()"
      ],
      "metadata": {
        "colab": {
          "base_uri": "https://localhost:8080/"
        },
        "id": "QX6nYYhaq4HM",
        "outputId": "85c1a1d6-e57a-4bec-d400-106f817f1453"
      },
      "execution_count": 17,
      "outputs": [
        {
          "output_type": "stream",
          "name": "stdout",
          "text": [
            "Parent class Constructor\n",
            "P class Instance Method\n",
            "P Class Class Method\n",
            "P class Static Method\n"
          ]
        }
      ]
    },
    {
      "cell_type": "markdown",
      "source": [
        "By using child class Instance Method, using super(), we can access:\n",
        "\n",
        "1.Parent class Constructor\n",
        "\n",
        "2.Parent class Instance Method\n",
        "\n",
        "3.Parent class Class Method\n",
        "\n",
        "4.Parent class Static Method"
      ],
      "metadata": {
        "id": "aCBCnRCctlRD"
      }
    },
    {
      "cell_type": "code",
      "source": [
        "class P:\n",
        "  def __init__(self):\n",
        "    print('Parent class Constructor')\n",
        "\n",
        "  def m1(self):\n",
        "    print('P class Instance Method')\n",
        "\n",
        "  @classmethod\n",
        "  def m2(cls):\n",
        "    print('P Class Class Method')\n",
        "\n",
        "  @staticmethod\n",
        "  def m3():\n",
        "    print('P class Static Method')\n",
        "\n",
        "class C(P):\n",
        "  def m(self):\n",
        "    super().__init__()\n",
        "    super().m1()\n",
        "    super().m2()\n",
        "    super().m3()\n",
        "\n",
        "c=C()\n",
        "c.m()"
      ],
      "metadata": {
        "colab": {
          "base_uri": "https://localhost:8080/"
        },
        "id": "xQqmwFD0tWsK",
        "outputId": "6ac6e747-c259-4ab6-9d31-14c2f9e35274"
      },
      "execution_count": 18,
      "outputs": [
        {
          "output_type": "stream",
          "name": "stdout",
          "text": [
            "Parent class Constructor\n",
            "Parent class Constructor\n",
            "P class Instance Method\n",
            "P Class Class Method\n",
            "P class Static Method\n"
          ]
        }
      ]
    },
    {
      "cell_type": "markdown",
      "source": [
        "By using child class Class Method, using super(), we can directly access:\n",
        "\n",
        "1.Parent class Class Method\n",
        "\n",
        "2.Parent class Static Method"
      ],
      "metadata": {
        "id": "MtSL-JB8wBfX"
      }
    },
    {
      "cell_type": "code",
      "source": [
        "class P:\n",
        "  def __init__(self):\n",
        "    print('Parent class Constructor')\n",
        "\n",
        "  def m1(self):\n",
        "    print('P class Instance Method')\n",
        "\n",
        "  @classmethod\n",
        "  def m2(cls):\n",
        "    print('P Class Class Method')\n",
        "\n",
        "  @staticmethod\n",
        "  def m3():\n",
        "    print('P class Static Method')\n",
        "\n",
        "class C(P):\n",
        "  @classmethod\n",
        "  def m(cls):\n",
        "    #super().__init__()\n",
        "    #super().m1()\n",
        "    super().m2()\n",
        "    super().m3()\n",
        "\n",
        "C.m()"
      ],
      "metadata": {
        "colab": {
          "base_uri": "https://localhost:8080/"
        },
        "id": "eF5aa6nlubLH",
        "outputId": "48d295ce-a39d-4592-99df-ae81f4089f31"
      },
      "execution_count": 22,
      "outputs": [
        {
          "output_type": "stream",
          "name": "stdout",
          "text": [
            "P Class Class Method\n",
            "P class Static Method\n"
          ]
        }
      ]
    },
    {
      "cell_type": "markdown",
      "source": [
        "By using child class Class Method, using super(), we can In-directly access:\n",
        "\n",
        "1.Parent Class Constructor\n",
        "\n",
        "2.Parent class Instance Method"
      ],
      "metadata": {
        "id": "4BcAGHUkwgTZ"
      }
    },
    {
      "cell_type": "code",
      "source": [
        "class P:\n",
        "  def __init__(self):\n",
        "    print('Parent class Constructor')\n",
        "\n",
        "  def m1(self):\n",
        "    print('P class Instance Method')\n",
        "\n",
        "  @classmethod\n",
        "  def m2(cls):\n",
        "    print('P Class Class Method')\n",
        "\n",
        "  @staticmethod\n",
        "  def m3():\n",
        "    print('P class Static Method')\n",
        "\n",
        "class C(P):\n",
        "  @classmethod\n",
        "  def m(cls):\n",
        "    super(C,cls).__init__(cls)\n",
        "    super(C,cls).m1(cls)\n",
        "    super().m2()\n",
        "    super().m3()\n",
        "\n",
        "C.m()"
      ],
      "metadata": {
        "colab": {
          "base_uri": "https://localhost:8080/"
        },
        "id": "onINYwWxxFE9",
        "outputId": "ac8c6589-74db-4e50-938e-d48b3c74e07c"
      },
      "execution_count": 26,
      "outputs": [
        {
          "output_type": "stream",
          "name": "stdout",
          "text": [
            "Parent class Constructor\n",
            "P class Instance Method\n",
            "P Class Class Method\n",
            "P class Static Method\n"
          ]
        }
      ]
    }
  ]
}