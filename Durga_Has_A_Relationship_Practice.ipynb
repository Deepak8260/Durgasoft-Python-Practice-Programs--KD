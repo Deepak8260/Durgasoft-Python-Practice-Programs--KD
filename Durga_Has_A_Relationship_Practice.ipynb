{
  "nbformat": 4,
  "nbformat_minor": 0,
  "metadata": {
    "colab": {
      "provenance": [],
      "authorship_tag": "ABX9TyMjaUWfxuPG4aGagaKIQcT4",
      "include_colab_link": true
    },
    "kernelspec": {
      "name": "python3",
      "display_name": "Python 3"
    },
    "language_info": {
      "name": "python"
    }
  },
  "cells": [
    {
      "cell_type": "markdown",
      "metadata": {
        "id": "view-in-github",
        "colab_type": "text"
      },
      "source": [
        "<a href=\"https://colab.research.google.com/github/Deepak8260/Durgasoft-Python-Practice-Programs--KD/blob/main/Durga_Has_A_Relationship_Practice.ipynb\" target=\"_parent\"><img src=\"https://colab.research.google.com/assets/colab-badge.svg\" alt=\"Open In Colab\"/></a>"
      ]
    },
    {
      "cell_type": "code",
      "execution_count": 1,
      "metadata": {
        "colab": {
          "base_uri": "https://localhost:8080/"
        },
        "id": "pSTWTOvxrdnM",
        "outputId": "8832e809-97b2-4b08-f6bd-9557a7099d30"
      },
      "outputs": [
        {
          "output_type": "stream",
          "name": "stdout",
          "text": [
            "car\n",
            "Engine\n",
            "125k\n"
          ]
        }
      ],
      "source": [
        "class Engine:\n",
        "  def __init__(self):\n",
        "    self.power='125k'\n",
        "  def useEngine(self):\n",
        "    print('Engine')\n",
        "\n",
        "class Car:\n",
        "  def __init__(self):\n",
        "    self.engine=Engine()\n",
        "\n",
        "  def useCar(self):\n",
        "    print('car')\n",
        "    self.engine.useEngine()\n",
        "    print(self.engine.power)\n",
        "\n",
        "c=Car()\n",
        "c.useCar()"
      ]
    },
    {
      "cell_type": "code",
      "source": [
        "class Car:\n",
        "  def __init__(self,name,model,color):\n",
        "    self.name=name\n",
        "    self.model=model\n",
        "    self.color=color\n",
        "\n",
        "  def getInfo(self):\n",
        "    print(f'Name:{self.name} Model:{self.model} Color:{self.color}')\n",
        "\n",
        "class Employee:\n",
        "  def __init__(self,ename,eno,car):\n",
        "    self.ename=ename\n",
        "    self.eno=eno\n",
        "    self.car=car\n",
        "\n",
        "  def empInfo(self):\n",
        "    print(f'Employee Name is {self.ename}')\n",
        "    print(f'Employee Number is {self.eno}')\n",
        "    print('Employee Car Details:')\n",
        "    self.car.getInfo()\n",
        "\n",
        "c=Car('Mercedes',54563563,'Green')\n",
        "e=Employee('Kumar',56335,c)\n",
        "e.empInfo()"
      ],
      "metadata": {
        "colab": {
          "base_uri": "https://localhost:8080/"
        },
        "id": "Jigbtxl4grJu",
        "outputId": "cacf9e88-dcc3-4fe7-eefd-7a3a274d9d52"
      },
      "execution_count": 2,
      "outputs": [
        {
          "output_type": "stream",
          "name": "stdout",
          "text": [
            "Employee Name is Kumar\n",
            "Employee Number is 56335\n",
            "Employee Car Details:\n",
            "Name:Mercedes Model:54563563 Color:Green\n"
          ]
        }
      ]
    },
    {
      "cell_type": "code",
      "source": [
        "class SportNews:\n",
        "  def sportsInfo(self):\n",
        "    print('Sports Information')\n",
        "\n",
        "class MoiveNews:\n",
        "  def movieInfo(self):\n",
        "    print('Movies Information')\n",
        "\n",
        "class PoliticalNews:\n",
        "  def politicsInfo(self):\n",
        "    print('Political News Info')\n",
        "\n",
        "class KumarNews:\n",
        "  def __init__(self):\n",
        "    self.sports=SportNews()\n",
        "    self.movies=MoiveNews()\n",
        "    self.politics=PoliticalNews()\n",
        "\n",
        "  def getInfo(self):\n",
        "    print('Welcome to Kumar News')\n",
        "    self.sports.sportsInfo()\n",
        "    self.movies.movieInfo()\n",
        "    self.politics.politicsInfo()\n",
        "\n",
        "k=KumarNews()\n",
        "k.getInfo()"
      ],
      "metadata": {
        "colab": {
          "base_uri": "https://localhost:8080/"
        },
        "id": "G_5MaYc1icy3",
        "outputId": "a056fc9b-245e-4241-acb0-3bb2a77da8ce"
      },
      "execution_count": 4,
      "outputs": [
        {
          "output_type": "stream",
          "name": "stdout",
          "text": [
            "Welcome to Kumar News\n",
            "Sports Information\n",
            "Movies Information\n",
            "Political News Info\n"
          ]
        }
      ]
    }
  ]
}