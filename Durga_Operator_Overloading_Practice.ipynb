{
  "nbformat": 4,
  "nbformat_minor": 0,
  "metadata": {
    "colab": {
      "provenance": [],
      "authorship_tag": "ABX9TyMGZ+oB9HbYKho5Tun5ofDe",
      "include_colab_link": true
    },
    "kernelspec": {
      "name": "python3",
      "display_name": "Python 3"
    },
    "language_info": {
      "name": "python"
    }
  },
  "cells": [
    {
      "cell_type": "markdown",
      "metadata": {
        "id": "view-in-github",
        "colab_type": "text"
      },
      "source": [
        "<a href=\"https://colab.research.google.com/github/Deepak8260/Durgasoft-Python-Practice-Programs--KD/blob/main/Durga_Operator_Overloading_Practice.ipynb\" target=\"_parent\"><img src=\"https://colab.research.google.com/assets/colab-badge.svg\" alt=\"Open In Colab\"/></a>"
      ]
    },
    {
      "cell_type": "markdown",
      "source": [
        "# Plus(+) Operator Overloading"
      ],
      "metadata": {
        "id": "U7MIRXBk1BuV"
      }
    },
    {
      "cell_type": "code",
      "execution_count": 6,
      "metadata": {
        "colab": {
          "base_uri": "https://localhost:8080/"
        },
        "id": "3a5ZkVV4yKeV",
        "outputId": "29924d96-521a-42a1-ce60-5947eec538d6"
      },
      "outputs": [
        {
          "output_type": "stream",
          "name": "stdout",
          "text": [
            "300\n"
          ]
        }
      ],
      "source": [
        "class Book:\n",
        "  def __init__(self,pages):\n",
        "    self.pages=pages\n",
        "\n",
        "  def __add__(self,other):\n",
        "    total_pages=self.pages+other.pages\n",
        "    return total_pages\n",
        "\n",
        "\n",
        "b1=Book(100)\n",
        "b2=Book(200)\n",
        "print(b1+b2)"
      ]
    },
    {
      "cell_type": "markdown",
      "source": [
        "# Minus(-) Operator Overloading"
      ],
      "metadata": {
        "id": "1ixs4muH1GmD"
      }
    },
    {
      "cell_type": "code",
      "source": [
        "class Book:\n",
        "  def __init__(self,pages):\n",
        "    self.pages=pages\n",
        "\n",
        "  def __sub__(self,other):\n",
        "    total_pages=self.pages-other.pages\n",
        "    return total_pages\n",
        "\n",
        "\n",
        "b1=Book(100)\n",
        "b2=Book(200)\n",
        "print(b1-b2)"
      ],
      "metadata": {
        "colab": {
          "base_uri": "https://localhost:8080/"
        },
        "id": "wBYKb0s01JCs",
        "outputId": "e1b17282-0d59-4ced-9538-5386f9c9b42c"
      },
      "execution_count": 9,
      "outputs": [
        {
          "output_type": "stream",
          "name": "stdout",
          "text": [
            "-100\n"
          ]
        }
      ]
    },
    {
      "cell_type": "markdown",
      "source": [
        "# Multiplication(*) Operator Overloading"
      ],
      "metadata": {
        "id": "hnK6Q6O11-j_"
      }
    },
    {
      "cell_type": "code",
      "source": [
        "class Book:\n",
        "  def __init__(self,pages):\n",
        "    self.pages=pages\n",
        "\n",
        "  def __mul__(self,other):\n",
        "    total_pages = self.pages * other.pages\n",
        "    return total_pages\n",
        "\n",
        "\n",
        "b1=Book(100)\n",
        "b2=Book(200)\n",
        "print(b1*b2)"
      ],
      "metadata": {
        "colab": {
          "base_uri": "https://localhost:8080/"
        },
        "id": "fRv7z-VL2EhV",
        "outputId": "2dba7adc-73ea-4fd1-bef9-08517f0528c9"
      },
      "execution_count": 10,
      "outputs": [
        {
          "output_type": "stream",
          "name": "stdout",
          "text": [
            "20000\n"
          ]
        }
      ]
    },
    {
      "cell_type": "markdown",
      "source": [
        "# += Operator Overloading"
      ],
      "metadata": {
        "id": "OwyF0BOr2WNJ"
      }
    },
    {
      "cell_type": "code",
      "source": [
        "class Book:\n",
        "  def __init__(self,pages):\n",
        "    self.pages=pages\n",
        "\n",
        "  def __iadd__(self,other):\n",
        "    self.pages +=other\n",
        "    return self\n",
        "\n",
        "\n",
        "b1=Book(100)\n",
        "b1+=20\n",
        "print(b1.pages)"
      ],
      "metadata": {
        "colab": {
          "base_uri": "https://localhost:8080/"
        },
        "id": "HJNRpmj_2Z72",
        "outputId": "f0ac6ea6-37de-412a-bd31-92661c7fc217"
      },
      "execution_count": 18,
      "outputs": [
        {
          "output_type": "stream",
          "name": "stdout",
          "text": [
            "120\n"
          ]
        }
      ]
    },
    {
      "cell_type": "markdown",
      "source": [
        "# < and > Operator Overloading"
      ],
      "metadata": {
        "id": "oM2i6s9n9_DG"
      }
    },
    {
      "cell_type": "code",
      "source": [
        "class Student:\n",
        "  def __init__(self,name,marks):\n",
        "    self.name=name\n",
        "    self.marks =marks\n",
        "\n",
        "  def __lt__(self,other):\n",
        "\n",
        "    return self.marks<other.marks\n",
        "\n",
        "\n",
        "b1=Student('Deepak',100)\n",
        "b2=Student('Kumar',200)\n",
        "\n",
        "print(b1<b2)\n",
        "print(b1>b2)"
      ],
      "metadata": {
        "colab": {
          "base_uri": "https://localhost:8080/"
        },
        "id": "Qc7uIr2--CTk",
        "outputId": "9346e557-3d9b-4879-c079-2d1c226f964a"
      },
      "execution_count": 22,
      "outputs": [
        {
          "output_type": "stream",
          "name": "stdout",
          "text": [
            "True\n",
            "False\n"
          ]
        }
      ]
    },
    {
      "cell_type": "code",
      "source": [],
      "metadata": {
        "id": "yDTErD22_CnC"
      },
      "execution_count": null,
      "outputs": []
    }
  ]
}